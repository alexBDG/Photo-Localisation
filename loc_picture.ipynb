{
 "cells": [
  {
   "cell_type": "markdown",
   "metadata": {},
   "source": [
    "# L'image"
   ]
  },
  {
   "cell_type": "code",
   "execution_count": 9,
   "metadata": {},
   "outputs": [],
   "source": [
    "img_path = 'data/DSC_3945.JPG'"
   ]
  },
  {
   "cell_type": "markdown",
   "metadata": {},
   "source": [
    "![Image to test](data/DSC_3945.JPG \"Château des Ducs de Bretagne\")"
   ]
  },
  {
   "cell_type": "markdown",
   "metadata": {},
   "source": [
    "# L'extraction des données géographiques"
   ]
  },
  {
   "cell_type": "code",
   "execution_count": 43,
   "metadata": {},
   "outputs": [],
   "source": [
    "import copy\n",
    "from PIL import Image\n",
    "from PIL.ExifTags import TAGS, GPSTAGS\n",
    "\n",
    "def get_exif(filename):\n",
    "    exif = Image.open(filename)._getexif()\n",
    "    \n",
    "    if exif is not None:\n",
    "        for key, value in copy.deepcopy(exif).items():\n",
    "            name = TAGS.get(key, key)\n",
    "            exif[name] = exif.pop(key)\n",
    "        \n",
    "        if 'GPSInfo' in exif:\n",
    "            for key in copy.deepcopy(exif['GPSInfo']).keys():\n",
    "                name = GPSTAGS.get(key,key)\n",
    "                exif['GPSInfo'][name] = exif['GPSInfo'].pop(key)\n",
    "        else:\n",
    "            print(\"Pas d'information de géolocalisation dans cette image.\")\n",
    "        \n",
    "    return exif\n",
    "\n",
    "exif = get_exif(img_path)"
   ]
  },
  {
   "cell_type": "markdown",
   "metadata": {},
   "source": [
    "### Visualiser les infos de géolocalisation"
   ]
  },
  {
   "cell_type": "code",
   "execution_count": 44,
   "metadata": {},
   "outputs": [
    {
     "data": {
      "text/plain": [
       "{'GPSVersionID': b'\\x02\\x02\\x00\\x00',\n",
       " 'GPSLatitudeRef': 'N',\n",
       " 'GPSLatitude': (47.0, 12.0, 55.896),\n",
       " 'GPSLongitudeRef': 'W',\n",
       " 'GPSLongitude': (1.0, 33.0, 1.94),\n",
       " 'GPSAltitudeRef': b'\\x00',\n",
       " 'GPSAltitude': 0.0,\n",
       " 'GPSTimeStamp': (9.0, 17.0, 28.0),\n",
       " 'GPSStatus': 'A',\n",
       " 'GPSMapDatum': 'WGS-84',\n",
       " 'GPSProcessingMethod': b'ASCII\\x00\\x00\\x00network',\n",
       " 'GPSDateStamp': '2020:03:13'}"
      ]
     },
     "execution_count": 44,
     "metadata": {},
     "output_type": "execute_result"
    }
   ],
   "source": [
    "exif['GPSInfo']"
   ]
  },
  {
   "cell_type": "markdown",
   "metadata": {},
   "source": [
    "### Visualiser la date de la photo"
   ]
  },
  {
   "cell_type": "code",
   "execution_count": 45,
   "metadata": {},
   "outputs": [
    {
     "data": {
      "text/plain": [
       "'2020:03:13 10:17:33'"
      ]
     },
     "execution_count": 45,
     "metadata": {},
     "output_type": "execute_result"
    }
   ],
   "source": [
    "exif['DateTime']"
   ]
  },
  {
   "cell_type": "markdown",
   "metadata": {},
   "source": [
    "### Visualiser la taille de l'image"
   ]
  },
  {
   "cell_type": "code",
   "execution_count": 46,
   "metadata": {},
   "outputs": [
    {
     "data": {
      "text/plain": [
       "(5984, 3366)"
      ]
     },
     "execution_count": 46,
     "metadata": {},
     "output_type": "execute_result"
    }
   ],
   "source": [
    "exif['ExifImageWidth'], exif['ExifImageHeight']"
   ]
  },
  {
   "cell_type": "markdown",
   "metadata": {},
   "source": [
    "### Avoir les coordonnées au format DMS (degrés, minutes, secondes)"
   ]
  },
  {
   "cell_type": "code",
   "execution_count": 47,
   "metadata": {},
   "outputs": [
    {
     "data": {
      "text/plain": [
       "['47.0°12.0′55.896″ N', '1.0°33.0′1.94″ W']"
      ]
     },
     "execution_count": 47,
     "metadata": {},
     "output_type": "execute_result"
    }
   ],
   "source": [
    "def get_coordinates(info):\n",
    "    for key in ['Latitude', 'Longitude']:\n",
    "        if 'GPS'+key in info and 'GPS'+key+'Ref' in info:\n",
    "            e = info['GPS'+key]\n",
    "            ref = info['GPS'+key+'Ref']\n",
    "            info[key] = ( \n",
    "                str(e[0]) + '°' +\n",
    "                str(e[1]) + '′' +\n",
    "                str(e[2]) + '″ ' +\n",
    "                ref \n",
    "            )\n",
    "    \n",
    "    if 'Latitude' in info and 'Longitude' in info:\n",
    "        return [info['Latitude'], info['Longitude']]\n",
    "    \n",
    "coords = get_coordinates(exif['GPSInfo'])\n",
    "coords"
   ]
  },
  {
   "cell_type": "markdown",
   "metadata": {},
   "source": [
    "### Avoir les données au format décimal"
   ]
  },
  {
   "cell_type": "code",
   "execution_count": 57,
   "metadata": {},
   "outputs": [
    {
     "data": {
      "text/plain": [
       "[47.21552666666667, -1.550538888888889]"
      ]
     },
     "execution_count": 57,
     "metadata": {},
     "output_type": "execute_result"
    }
   ],
   "source": [
    "def get_decimal_coordinates(info):\n",
    "    for key in ['Latitude', 'Longitude']:\n",
    "        if 'GPS'+key in info and 'GPS'+key+'Ref' in info:\n",
    "            e = info['GPS'+key]\n",
    "            ref = info['GPS'+key+'Ref']\n",
    "            info[key] = (\n",
    "                e[0] +\n",
    "                e[1] / 60. +\n",
    "                e[2] / 3600.\n",
    "            ) \n",
    "            info[key] *= -1 if ref in ['S','W'] else 1\n",
    "        \n",
    "    if 'Latitude' in info and 'Longitude' in info:\n",
    "        return [info['Latitude'], info['Longitude']]\n",
    "\n",
    "coords = get_decimal_coordinates(exif['GPSInfo'])\n",
    "coords"
   ]
  },
  {
   "cell_type": "markdown",
   "metadata": {},
   "source": [
    "# L'affichage sur carte"
   ]
  },
  {
   "cell_type": "code",
   "execution_count": 60,
   "metadata": {},
   "outputs": [
    {
     "data": {
      "text/html": [
       "<div style=\"width:100%;\"><div style=\"position:relative;width:100%;height:0;padding-bottom:60%;\"><span style=\"color:#565656\">Make this Notebook Trusted to load map: File -> Trust Notebook</span><iframe src=\"about:blank\" style=\"position:absolute;width:100%;height:100%;left:0;top:0;border:none !important;\" data-html=%3C%21DOCTYPE%20html%3E%0A%3Chead%3E%20%20%20%20%0A%20%20%20%20%3Cmeta%20http-equiv%3D%22content-type%22%20content%3D%22text/html%3B%20charset%3DUTF-8%22%20/%3E%0A%20%20%20%20%0A%20%20%20%20%20%20%20%20%3Cscript%3E%0A%20%20%20%20%20%20%20%20%20%20%20%20L_NO_TOUCH%20%3D%20false%3B%0A%20%20%20%20%20%20%20%20%20%20%20%20L_DISABLE_3D%20%3D%20false%3B%0A%20%20%20%20%20%20%20%20%3C/script%3E%0A%20%20%20%20%0A%20%20%20%20%3Cstyle%3Ehtml%2C%20body%20%7Bwidth%3A%20100%25%3Bheight%3A%20100%25%3Bmargin%3A%200%3Bpadding%3A%200%3B%7D%3C/style%3E%0A%20%20%20%20%3Cstyle%3E%23map%20%7Bposition%3Aabsolute%3Btop%3A0%3Bbottom%3A0%3Bright%3A0%3Bleft%3A0%3B%7D%3C/style%3E%0A%20%20%20%20%3Cscript%20src%3D%22https%3A//cdn.jsdelivr.net/npm/leaflet%401.6.0/dist/leaflet.js%22%3E%3C/script%3E%0A%20%20%20%20%3Cscript%20src%3D%22https%3A//code.jquery.com/jquery-1.12.4.min.js%22%3E%3C/script%3E%0A%20%20%20%20%3Cscript%20src%3D%22https%3A//maxcdn.bootstrapcdn.com/bootstrap/3.2.0/js/bootstrap.min.js%22%3E%3C/script%3E%0A%20%20%20%20%3Cscript%20src%3D%22https%3A//cdnjs.cloudflare.com/ajax/libs/Leaflet.awesome-markers/2.0.2/leaflet.awesome-markers.js%22%3E%3C/script%3E%0A%20%20%20%20%3Clink%20rel%3D%22stylesheet%22%20href%3D%22https%3A//cdn.jsdelivr.net/npm/leaflet%401.6.0/dist/leaflet.css%22/%3E%0A%20%20%20%20%3Clink%20rel%3D%22stylesheet%22%20href%3D%22https%3A//maxcdn.bootstrapcdn.com/bootstrap/3.2.0/css/bootstrap.min.css%22/%3E%0A%20%20%20%20%3Clink%20rel%3D%22stylesheet%22%20href%3D%22https%3A//maxcdn.bootstrapcdn.com/bootstrap/3.2.0/css/bootstrap-theme.min.css%22/%3E%0A%20%20%20%20%3Clink%20rel%3D%22stylesheet%22%20href%3D%22https%3A//maxcdn.bootstrapcdn.com/font-awesome/4.6.3/css/font-awesome.min.css%22/%3E%0A%20%20%20%20%3Clink%20rel%3D%22stylesheet%22%20href%3D%22https%3A//cdnjs.cloudflare.com/ajax/libs/Leaflet.awesome-markers/2.0.2/leaflet.awesome-markers.css%22/%3E%0A%20%20%20%20%3Clink%20rel%3D%22stylesheet%22%20href%3D%22https%3A//cdn.jsdelivr.net/gh/python-visualization/folium/folium/templates/leaflet.awesome.rotate.min.css%22/%3E%0A%20%20%20%20%0A%20%20%20%20%20%20%20%20%20%20%20%20%3Cmeta%20name%3D%22viewport%22%20content%3D%22width%3Ddevice-width%2C%0A%20%20%20%20%20%20%20%20%20%20%20%20%20%20%20%20initial-scale%3D1.0%2C%20maximum-scale%3D1.0%2C%20user-scalable%3Dno%22%20/%3E%0A%20%20%20%20%20%20%20%20%20%20%20%20%3Cstyle%3E%0A%20%20%20%20%20%20%20%20%20%20%20%20%20%20%20%20%23map_b8a734898e3f47d1aa2d94adfc01d2b1%20%7B%0A%20%20%20%20%20%20%20%20%20%20%20%20%20%20%20%20%20%20%20%20position%3A%20relative%3B%0A%20%20%20%20%20%20%20%20%20%20%20%20%20%20%20%20%20%20%20%20width%3A%20100.0%25%3B%0A%20%20%20%20%20%20%20%20%20%20%20%20%20%20%20%20%20%20%20%20height%3A%20100.0%25%3B%0A%20%20%20%20%20%20%20%20%20%20%20%20%20%20%20%20%20%20%20%20left%3A%200.0%25%3B%0A%20%20%20%20%20%20%20%20%20%20%20%20%20%20%20%20%20%20%20%20top%3A%200.0%25%3B%0A%20%20%20%20%20%20%20%20%20%20%20%20%20%20%20%20%7D%0A%20%20%20%20%20%20%20%20%20%20%20%20%3C/style%3E%0A%20%20%20%20%20%20%20%20%0A%3C/head%3E%0A%3Cbody%3E%20%20%20%20%0A%20%20%20%20%0A%20%20%20%20%20%20%20%20%20%20%20%20%3Cdiv%20class%3D%22folium-map%22%20id%3D%22map_b8a734898e3f47d1aa2d94adfc01d2b1%22%20%3E%3C/div%3E%0A%20%20%20%20%20%20%20%20%0A%3C/body%3E%0A%3Cscript%3E%20%20%20%20%0A%20%20%20%20%0A%20%20%20%20%20%20%20%20%20%20%20%20var%20map_b8a734898e3f47d1aa2d94adfc01d2b1%20%3D%20L.map%28%0A%20%20%20%20%20%20%20%20%20%20%20%20%20%20%20%20%22map_b8a734898e3f47d1aa2d94adfc01d2b1%22%2C%0A%20%20%20%20%20%20%20%20%20%20%20%20%20%20%20%20%7B%0A%20%20%20%20%20%20%20%20%20%20%20%20%20%20%20%20%20%20%20%20center%3A%20%5B47.0%2C%201.0%5D%2C%0A%20%20%20%20%20%20%20%20%20%20%20%20%20%20%20%20%20%20%20%20crs%3A%20L.CRS.EPSG3857%2C%0A%20%20%20%20%20%20%20%20%20%20%20%20%20%20%20%20%20%20%20%20zoom%3A%205%2C%0A%20%20%20%20%20%20%20%20%20%20%20%20%20%20%20%20%20%20%20%20zoomControl%3A%20true%2C%0A%20%20%20%20%20%20%20%20%20%20%20%20%20%20%20%20%20%20%20%20preferCanvas%3A%20false%2C%0A%20%20%20%20%20%20%20%20%20%20%20%20%20%20%20%20%7D%0A%20%20%20%20%20%20%20%20%20%20%20%20%29%3B%0A%0A%20%20%20%20%20%20%20%20%20%20%20%20%0A%0A%20%20%20%20%20%20%20%20%0A%20%20%20%20%0A%20%20%20%20%20%20%20%20%20%20%20%20var%20tile_layer_aa3b39faaa474bd191ddbe85e97babd9%20%3D%20L.tileLayer%28%0A%20%20%20%20%20%20%20%20%20%20%20%20%20%20%20%20%22https%3A//%7Bs%7D.tile.openstreetmap.org/%7Bz%7D/%7Bx%7D/%7By%7D.png%22%2C%0A%20%20%20%20%20%20%20%20%20%20%20%20%20%20%20%20%7B%22attribution%22%3A%20%22Data%20by%20%5Cu0026copy%3B%20%5Cu003ca%20href%3D%5C%22http%3A//openstreetmap.org%5C%22%5Cu003eOpenStreetMap%5Cu003c/a%5Cu003e%2C%20under%20%5Cu003ca%20href%3D%5C%22http%3A//www.openstreetmap.org/copyright%5C%22%5Cu003eODbL%5Cu003c/a%5Cu003e.%22%2C%20%22detectRetina%22%3A%20false%2C%20%22maxNativeZoom%22%3A%2018%2C%20%22maxZoom%22%3A%2018%2C%20%22minZoom%22%3A%200%2C%20%22noWrap%22%3A%20false%2C%20%22opacity%22%3A%201%2C%20%22subdomains%22%3A%20%22abc%22%2C%20%22tms%22%3A%20false%7D%0A%20%20%20%20%20%20%20%20%20%20%20%20%29.addTo%28map_b8a734898e3f47d1aa2d94adfc01d2b1%29%3B%0A%20%20%20%20%20%20%20%20%0A%3C/script%3E onload=\"this.contentDocument.open();this.contentDocument.write(    decodeURIComponent(this.getAttribute('data-html')));this.contentDocument.close();\" allowfullscreen webkitallowfullscreen mozallowfullscreen></iframe></div></div>"
      ],
      "text/plain": [
       "<folium.folium.Map at 0x1ed34178610>"
      ]
     },
     "execution_count": 60,
     "metadata": {},
     "output_type": "execute_result"
    }
   ],
   "source": [
    "# import libraries\n",
    "import folium\n",
    "import pandas as pd\n",
    "\n",
    "# Make an empty map\n",
    "m = folium.Map(location=[47, 1], tiles=\"OpenStreetMap\", zoom_start=5)\n",
    "\n",
    "m"
   ]
  },
  {
   "cell_type": "code",
   "execution_count": 61,
   "metadata": {},
   "outputs": [
    {
     "data": {
      "text/html": [
       "<div style=\"width:100%;\"><div style=\"position:relative;width:100%;height:0;padding-bottom:60%;\"><span style=\"color:#565656\">Make this Notebook Trusted to load map: File -> Trust Notebook</span><iframe src=\"about:blank\" style=\"position:absolute;width:100%;height:100%;left:0;top:0;border:none !important;\" data-html=%3C%21DOCTYPE%20html%3E%0A%3Chead%3E%20%20%20%20%0A%20%20%20%20%3Cmeta%20http-equiv%3D%22content-type%22%20content%3D%22text/html%3B%20charset%3DUTF-8%22%20/%3E%0A%20%20%20%20%0A%20%20%20%20%20%20%20%20%3Cscript%3E%0A%20%20%20%20%20%20%20%20%20%20%20%20L_NO_TOUCH%20%3D%20false%3B%0A%20%20%20%20%20%20%20%20%20%20%20%20L_DISABLE_3D%20%3D%20false%3B%0A%20%20%20%20%20%20%20%20%3C/script%3E%0A%20%20%20%20%0A%20%20%20%20%3Cstyle%3Ehtml%2C%20body%20%7Bwidth%3A%20100%25%3Bheight%3A%20100%25%3Bmargin%3A%200%3Bpadding%3A%200%3B%7D%3C/style%3E%0A%20%20%20%20%3Cstyle%3E%23map%20%7Bposition%3Aabsolute%3Btop%3A0%3Bbottom%3A0%3Bright%3A0%3Bleft%3A0%3B%7D%3C/style%3E%0A%20%20%20%20%3Cscript%20src%3D%22https%3A//cdn.jsdelivr.net/npm/leaflet%401.6.0/dist/leaflet.js%22%3E%3C/script%3E%0A%20%20%20%20%3Cscript%20src%3D%22https%3A//code.jquery.com/jquery-1.12.4.min.js%22%3E%3C/script%3E%0A%20%20%20%20%3Cscript%20src%3D%22https%3A//maxcdn.bootstrapcdn.com/bootstrap/3.2.0/js/bootstrap.min.js%22%3E%3C/script%3E%0A%20%20%20%20%3Cscript%20src%3D%22https%3A//cdnjs.cloudflare.com/ajax/libs/Leaflet.awesome-markers/2.0.2/leaflet.awesome-markers.js%22%3E%3C/script%3E%0A%20%20%20%20%3Clink%20rel%3D%22stylesheet%22%20href%3D%22https%3A//cdn.jsdelivr.net/npm/leaflet%401.6.0/dist/leaflet.css%22/%3E%0A%20%20%20%20%3Clink%20rel%3D%22stylesheet%22%20href%3D%22https%3A//maxcdn.bootstrapcdn.com/bootstrap/3.2.0/css/bootstrap.min.css%22/%3E%0A%20%20%20%20%3Clink%20rel%3D%22stylesheet%22%20href%3D%22https%3A//maxcdn.bootstrapcdn.com/bootstrap/3.2.0/css/bootstrap-theme.min.css%22/%3E%0A%20%20%20%20%3Clink%20rel%3D%22stylesheet%22%20href%3D%22https%3A//maxcdn.bootstrapcdn.com/font-awesome/4.6.3/css/font-awesome.min.css%22/%3E%0A%20%20%20%20%3Clink%20rel%3D%22stylesheet%22%20href%3D%22https%3A//cdnjs.cloudflare.com/ajax/libs/Leaflet.awesome-markers/2.0.2/leaflet.awesome-markers.css%22/%3E%0A%20%20%20%20%3Clink%20rel%3D%22stylesheet%22%20href%3D%22https%3A//cdn.jsdelivr.net/gh/python-visualization/folium/folium/templates/leaflet.awesome.rotate.min.css%22/%3E%0A%20%20%20%20%0A%20%20%20%20%20%20%20%20%20%20%20%20%3Cmeta%20name%3D%22viewport%22%20content%3D%22width%3Ddevice-width%2C%0A%20%20%20%20%20%20%20%20%20%20%20%20%20%20%20%20initial-scale%3D1.0%2C%20maximum-scale%3D1.0%2C%20user-scalable%3Dno%22%20/%3E%0A%20%20%20%20%20%20%20%20%20%20%20%20%3Cstyle%3E%0A%20%20%20%20%20%20%20%20%20%20%20%20%20%20%20%20%23map_b8a734898e3f47d1aa2d94adfc01d2b1%20%7B%0A%20%20%20%20%20%20%20%20%20%20%20%20%20%20%20%20%20%20%20%20position%3A%20relative%3B%0A%20%20%20%20%20%20%20%20%20%20%20%20%20%20%20%20%20%20%20%20width%3A%20100.0%25%3B%0A%20%20%20%20%20%20%20%20%20%20%20%20%20%20%20%20%20%20%20%20height%3A%20100.0%25%3B%0A%20%20%20%20%20%20%20%20%20%20%20%20%20%20%20%20%20%20%20%20left%3A%200.0%25%3B%0A%20%20%20%20%20%20%20%20%20%20%20%20%20%20%20%20%20%20%20%20top%3A%200.0%25%3B%0A%20%20%20%20%20%20%20%20%20%20%20%20%20%20%20%20%7D%0A%20%20%20%20%20%20%20%20%20%20%20%20%3C/style%3E%0A%20%20%20%20%20%20%20%20%0A%3C/head%3E%0A%3Cbody%3E%20%20%20%20%0A%20%20%20%20%0A%20%20%20%20%20%20%20%20%20%20%20%20%3Cdiv%20class%3D%22folium-map%22%20id%3D%22map_b8a734898e3f47d1aa2d94adfc01d2b1%22%20%3E%3C/div%3E%0A%20%20%20%20%20%20%20%20%0A%3C/body%3E%0A%3Cscript%3E%20%20%20%20%0A%20%20%20%20%0A%20%20%20%20%20%20%20%20%20%20%20%20var%20map_b8a734898e3f47d1aa2d94adfc01d2b1%20%3D%20L.map%28%0A%20%20%20%20%20%20%20%20%20%20%20%20%20%20%20%20%22map_b8a734898e3f47d1aa2d94adfc01d2b1%22%2C%0A%20%20%20%20%20%20%20%20%20%20%20%20%20%20%20%20%7B%0A%20%20%20%20%20%20%20%20%20%20%20%20%20%20%20%20%20%20%20%20center%3A%20%5B47.0%2C%201.0%5D%2C%0A%20%20%20%20%20%20%20%20%20%20%20%20%20%20%20%20%20%20%20%20crs%3A%20L.CRS.EPSG3857%2C%0A%20%20%20%20%20%20%20%20%20%20%20%20%20%20%20%20%20%20%20%20zoom%3A%205%2C%0A%20%20%20%20%20%20%20%20%20%20%20%20%20%20%20%20%20%20%20%20zoomControl%3A%20true%2C%0A%20%20%20%20%20%20%20%20%20%20%20%20%20%20%20%20%20%20%20%20preferCanvas%3A%20false%2C%0A%20%20%20%20%20%20%20%20%20%20%20%20%20%20%20%20%7D%0A%20%20%20%20%20%20%20%20%20%20%20%20%29%3B%0A%0A%20%20%20%20%20%20%20%20%20%20%20%20%0A%0A%20%20%20%20%20%20%20%20%0A%20%20%20%20%0A%20%20%20%20%20%20%20%20%20%20%20%20var%20tile_layer_aa3b39faaa474bd191ddbe85e97babd9%20%3D%20L.tileLayer%28%0A%20%20%20%20%20%20%20%20%20%20%20%20%20%20%20%20%22https%3A//%7Bs%7D.tile.openstreetmap.org/%7Bz%7D/%7Bx%7D/%7By%7D.png%22%2C%0A%20%20%20%20%20%20%20%20%20%20%20%20%20%20%20%20%7B%22attribution%22%3A%20%22Data%20by%20%5Cu0026copy%3B%20%5Cu003ca%20href%3D%5C%22http%3A//openstreetmap.org%5C%22%5Cu003eOpenStreetMap%5Cu003c/a%5Cu003e%2C%20under%20%5Cu003ca%20href%3D%5C%22http%3A//www.openstreetmap.org/copyright%5C%22%5Cu003eODbL%5Cu003c/a%5Cu003e.%22%2C%20%22detectRetina%22%3A%20false%2C%20%22maxNativeZoom%22%3A%2018%2C%20%22maxZoom%22%3A%2018%2C%20%22minZoom%22%3A%200%2C%20%22noWrap%22%3A%20false%2C%20%22opacity%22%3A%201%2C%20%22subdomains%22%3A%20%22abc%22%2C%20%22tms%22%3A%20false%7D%0A%20%20%20%20%20%20%20%20%20%20%20%20%29.addTo%28map_b8a734898e3f47d1aa2d94adfc01d2b1%29%3B%0A%20%20%20%20%20%20%20%20%0A%20%20%20%20%0A%20%20%20%20%20%20%20%20%20%20%20%20var%20marker_1d6ed478f0574aedaf3c997a5e96b946%20%3D%20L.marker%28%0A%20%20%20%20%20%20%20%20%20%20%20%20%20%20%20%20%5B47.21552666666667%2C%20-1.550538888888889%5D%2C%0A%20%20%20%20%20%20%20%20%20%20%20%20%20%20%20%20%7B%7D%0A%20%20%20%20%20%20%20%20%20%20%20%20%29.addTo%28map_b8a734898e3f47d1aa2d94adfc01d2b1%29%3B%0A%20%20%20%20%20%20%20%20%0A%20%20%20%20%0A%20%20%20%20%20%20%20%20var%20popup_00f29277133d40d58a156b33c8138621%20%3D%20L.popup%28%7B%22maxWidth%22%3A%20%22100%25%22%7D%29%3B%0A%0A%20%20%20%20%20%20%20%20%0A%20%20%20%20%20%20%20%20%20%20%20%20var%20html_eae3efe04a4c499d97480a14b4d0b9d5%20%3D%20%24%28%60%3Cdiv%20id%3D%22html_eae3efe04a4c499d97480a14b4d0b9d5%22%20style%3D%22width%3A%20100.0%25%3B%20height%3A%20100.0%25%3B%22%3EChateau%20des%20Ducs%20de%20Bretagne%3C/div%3E%60%29%5B0%5D%3B%0A%20%20%20%20%20%20%20%20%20%20%20%20popup_00f29277133d40d58a156b33c8138621.setContent%28html_eae3efe04a4c499d97480a14b4d0b9d5%29%3B%0A%20%20%20%20%20%20%20%20%0A%0A%20%20%20%20%20%20%20%20marker_1d6ed478f0574aedaf3c997a5e96b946.bindPopup%28popup_00f29277133d40d58a156b33c8138621%29%0A%20%20%20%20%20%20%20%20%3B%0A%0A%20%20%20%20%20%20%20%20%0A%20%20%20%20%0A%3C/script%3E onload=\"this.contentDocument.open();this.contentDocument.write(    decodeURIComponent(this.getAttribute('data-html')));this.contentDocument.close();\" allowfullscreen webkitallowfullscreen mozallowfullscreen></iframe></div></div>"
      ],
      "text/plain": [
       "<folium.folium.Map at 0x1ed34178610>"
      ]
     },
     "execution_count": 61,
     "metadata": {},
     "output_type": "execute_result"
    }
   ],
   "source": [
    "# Make a data frame with dots to show on the map\n",
    "data = pd.DataFrame({\n",
    "                        'lat':[coords[0]],\n",
    "                        'lon':[coords[1]],\n",
    "                        'name':['Chateau des Ducs de Bretagne']\n",
    "                    })\n",
    "\n",
    "# I can add marker one by one on the map\n",
    "for i in range(0,len(data)):\n",
    "    folium.Marker(\n",
    "        [data.iloc[i]['lat'], data.iloc[i]['lon']], popup=data.iloc[i]['name']\n",
    "    ).add_to(m)\n",
    " \n",
    "m\n",
    "\n",
    "# Save it as html\n",
    "#m.save('chateau_des_ducs_de_bretagne.html')"
   ]
  },
  {
   "cell_type": "code",
   "execution_count": 76,
   "metadata": {},
   "outputs": [],
   "source": [
    "import matplotlib.pyplot as plt\n",
    "import base64\n",
    "import time\n",
    "from tqdm import tqdm\n",
    "from folium import IFrame\n",
    "from folium.plugins import MarkerCluster\n",
    "\n",
    "\n",
    "# Variable du redimentionnement\n",
    "width = 300\n",
    "\n",
    "def add_markers(m, data, width=300):\n",
    "    \n",
    "    print(\"Création de la carte ...\")\n",
    "    time.sleep(0.2)\n",
    "    \n",
    "    result_path = r\"results\"\n",
    "    tmp_path = os.path.join(result_path, 'tmp.png')\n",
    "    if not os.path.exists(result_path):\n",
    "        os.makedirs(result_path)\n",
    "    \n",
    "    marker_cluster = MarkerCluster().add_to(m)\n",
    "\n",
    "    # Balise html pour l'affichage Popup d'une image\n",
    "    html = '<img src=\"data:image/png;base64,{0}\">'.format\n",
    "\n",
    "    for i in tqdm(range(len(data))):\n",
    "\n",
    "        # Redimentionnement de l'image et enregistrement temporaire\n",
    "        img = Image.open(data.iloc[i]['path'])\n",
    "        height = int(img.size[1]*(width/img.size[0]))\n",
    "        img = img.resize((width, height), Image.ANTIALIAS)\n",
    "        if int(data.iloc[i]['orientation'])>1:\n",
    "            img = img.transpose(Image.ROTATE_270)\n",
    "            w, h = height, width\n",
    "        else:\n",
    "            w, h = width, height\n",
    "        img.save(tmp_path)\n",
    "        del img\n",
    "\n",
    "        # Longitude / Latitude\n",
    "        lat, lon = data.iloc[i]['lat'], data.iloc[i]['lon']\n",
    "\n",
    "        # On ouvre l'image temporaire et on l'encode\n",
    "        encoded = base64.b64encode(open(tmp_path, 'rb').read())\n",
    "\n",
    "        # On en fait une Frame puis un Popup\n",
    "        iframe = IFrame(html(encoded.decode('UTF-8'), w, h), width=w+20, height=h+20)\n",
    "        popup = folium.Popup(iframe, max_width=2650)\n",
    "\n",
    "        # On choisit l'icône\n",
    "        icon = folium.Icon(icon=\"camera\", prefix=\"fa\")\n",
    "\n",
    "        # On ajoute le Marker\n",
    "        marker = folium.Marker([lat, lon], popup=popup, icon=icon)\n",
    "        marker.add_to(marker_cluster)\n",
    "\n",
    "    # On supprime les fichiers temporaires\n",
    "    os.remove(tmp_path)\n",
    "\n",
    "    # On enregistre au format html\n",
    "    print(\"Enregistrement de la carte ...\")\n",
    "    m.save(os.path.join(result_path, 'carte_geolocalisation_photos.html'))"
   ]
  },
  {
   "cell_type": "code",
   "execution_count": 81,
   "metadata": {},
   "outputs": [],
   "source": [
    "import os\n",
    "\n",
    "\n",
    "def get_dataset(folder, data, main_call=True):\n",
    "    \n",
    "    if main_call:\n",
    "        print(\"Récupération des données de géolocalisation ...\")\n",
    "    \n",
    "    coords = []\n",
    "    dates  = []\n",
    "    times  = []\n",
    "    paths  = []\n",
    "    oriens = []\n",
    "    \n",
    "    for el_path in os.listdir(folder):\n",
    "        \n",
    "        el_path = os.path.join(folder, el_path)\n",
    "        \n",
    "        # Si c'est un fichier, on regarde s'il est sous un format d'image et on enregistre les informations\n",
    "        if os.path.isfile(el_path) and el_path.split('.')[1] in ['png', 'jpg', 'jpeg', 'JPG']:\n",
    "            \n",
    "            exif = get_exif(el_path)\n",
    "            \n",
    "            if exif is not None and 'GPSInfo' in exif.keys():\n",
    "            \n",
    "                datetime = exif['DateTime'].split(' ')\n",
    "                coord  = get_decimal_coordinates(exif['GPSInfo'])\n",
    "\n",
    "                if coord is not None:\n",
    "\n",
    "                    coords += [coord]\n",
    "                    dates  += [datetime[0]]\n",
    "                    times  += [datetime[1]]\n",
    "                    paths  += [el_path]\n",
    "                    oriens += [exif['Orientation']]\n",
    "            \n",
    "        # Si c'est un dossier, on cherche dedans de manière récursive\n",
    "        elif os.path.isdir(el_path):\n",
    "            \n",
    "            sub_data = get_dataset(el_path, data, main_call=False)\n",
    "            data     = data.append(sub_data)\n",
    "            data     = data.drop_duplicates(ignore_index=True)\n",
    "            \n",
    "            \n",
    "    tmp_data = pd.DataFrame({\n",
    "                                'lat':[coord[0] for coord in coords],\n",
    "                                'lon':[coord[1] for coord in coords],\n",
    "                                'date':[date for date in dates],\n",
    "                                'time':[time for time in times],\n",
    "                                'path':[el_path for el_path in paths],\n",
    "                                'orientation':[orien for orien in oriens]\n",
    "                            })\n",
    "\n",
    "    data = data.append(tmp_data)\n",
    "    data = data.drop_duplicates(ignore_index=True)\n",
    "            \n",
    "    return data"
   ]
  },
  {
   "cell_type": "code",
   "execution_count": 83,
   "metadata": {},
   "outputs": [
    {
     "name": "stdout",
     "output_type": "stream",
     "text": [
      "Début du script\n",
      "Récupération des données de géolocalisation ...\n",
      "Création de la carte ...\n"
     ]
    },
    {
     "name": "stderr",
     "output_type": "stream",
     "text": [
      "100%|██████████████████████████████████████████| 60/60 [00:17<00:00,  3.39it/s]\n"
     ]
    },
    {
     "name": "stdout",
     "output_type": "stream",
     "text": [
      "Enregistrement de la carte ...\n",
      "Fin. Durée totale :  0 m 19 s\n"
     ]
    }
   ],
   "source": [
    "# Info\n",
    "start = time.time()\n",
    "print('Début du script')\n",
    "\n",
    "# On crée la base de données\n",
    "data = pd.DataFrame({\n",
    "    'lat': [], \n",
    "    'lon': [], \n",
    "    'date':[], \n",
    "    'time':[], \n",
    "    'path':[], \n",
    "    'orientation':[]\n",
    "})\n",
    "data = get_dataset(\"C:\\\\Users\\\\alspe\\\\Pictures\\\\2020\\\\06-2020\", data)\n",
    "\n",
    "# On crée la carte\n",
    "m = folium.Map(location=[47, 1], tiles=\"OpenStreetMap\", zoom_start=5)\n",
    "\n",
    "# On ajoute les emplacements\n",
    "add_markers(m, data)\n",
    "\n",
    "# Info\n",
    "end = time.time()\n",
    "print('Fin. Durée totale : ', int((end-start)//60), 'm', int((end-start)%60), 's')"
   ]
  },
  {
   "cell_type": "code",
   "execution_count": null,
   "metadata": {},
   "outputs": [],
   "source": []
  },
  {
   "cell_type": "code",
   "execution_count": null,
   "metadata": {},
   "outputs": [],
   "source": []
  }
 ],
 "metadata": {
  "kernelspec": {
   "display_name": "Python 3",
   "language": "python",
   "name": "python3"
  },
  "language_info": {
   "codemirror_mode": {
    "name": "ipython",
    "version": 3
   },
   "file_extension": ".py",
   "mimetype": "text/x-python",
   "name": "python",
   "nbconvert_exporter": "python",
   "pygments_lexer": "ipython3",
   "version": "3.8.5"
  }
 },
 "nbformat": 4,
 "nbformat_minor": 4
}
